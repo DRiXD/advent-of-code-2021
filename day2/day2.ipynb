{
 "cells": [
  {
   "cell_type": "code",
   "execution_count": 4,
   "id": "0df5e858-e4ab-40d5-8432-b609027b1ee5",
   "metadata": {},
   "outputs": [],
   "source": [
    "#txt-Datei einlesen\n",
    "\n",
    "file = open('directions.txt', 'r')\n",
    "Lines = file.readlines()\n",
    "\n",
    "directions = []\n",
    "for line in Lines:\n",
    "    directions.append(line)"
   ]
  },
  {
   "cell_type": "code",
   "execution_count": 5,
   "id": "b3f3f897-b5a3-4e82-966e-a449214218ba",
   "metadata": {},
   "outputs": [
    {
     "name": "stdout",
     "output_type": "stream",
     "text": [
      "The final depth is: 1022\n",
      "The final horizontal position is: 1996\n",
      "The final result is: 2039912\n"
     ]
    }
   ],
   "source": [
    "# Aufgabe 1\n",
    "horizontal_pos = 0\n",
    "depth = 0\n",
    "\n",
    "for direction in directions:\n",
    "    number = [int(s) for s in direction.split() if s.isdigit()]\n",
    "    if \"forward\" in direction:\n",
    "        horizontal_pos += number[0]\n",
    "    elif \"up\" in direction:\n",
    "        depth -= number[0]\n",
    "    elif \"down\" in direction:\n",
    "        depth += number[0]\n",
    "\n",
    "print(f\"The final depth is: {depth}\")\n",
    "print(f\"The final horizontal position is: {horizontal_pos}\")\n",
    "\n",
    "result = horizontal_pos * depth\n",
    "print(f\"The final result is: {result}\")"
   ]
  },
  {
   "cell_type": "code",
   "execution_count": 6,
   "id": "f9a3856b-187a-4b18-a45e-86e73b02e510",
   "metadata": {},
   "outputs": [
    {
     "name": "stdout",
     "output_type": "stream",
     "text": [
      "The final depth is: 972980\n",
      "The final horizontal position is: 1996\n",
      "The final aim is: 1022\n",
      "The final result is: 1942068080\n"
     ]
    }
   ],
   "source": [
    "# Aufgabe 2\n",
    "horizontal_pos = 0\n",
    "depth = 0\n",
    "aim = 0\n",
    "\n",
    "for direction in directions:\n",
    "    number = [int(s) for s in direction.split() if s.isdigit()]\n",
    "    if \"forward\" in direction:\n",
    "        horizontal_pos += number[0]\n",
    "        depth += number[0] * aim\n",
    "    elif \"up\" in direction:\n",
    "        aim -= number[0]\n",
    "    elif \"down\" in direction:\n",
    "        aim += number[0]\n",
    "\n",
    "print(f\"The final depth is: {depth}\")\n",
    "print(f\"The final horizontal position is: {horizontal_pos}\")\n",
    "print(f\"The final aim is: {aim}\")\n",
    "\n",
    "result = horizontal_pos * depth\n",
    "print(f\"The final result is: {result}\")"
   ]
  },
  {
   "cell_type": "code",
   "execution_count": null,
   "id": "27771a27-35b9-4601-b075-b060912ce758",
   "metadata": {},
   "outputs": [],
   "source": []
  }
 ],
 "metadata": {
  "kernelspec": {
   "display_name": "Python 3",
   "language": "python",
   "name": "python3"
  },
  "language_info": {
   "codemirror_mode": {
    "name": "ipython",
    "version": 3
   },
   "file_extension": ".py",
   "mimetype": "text/x-python",
   "name": "python",
   "nbconvert_exporter": "python",
   "pygments_lexer": "ipython3",
   "version": "3.6.12"
  }
 },
 "nbformat": 4,
 "nbformat_minor": 5
}
