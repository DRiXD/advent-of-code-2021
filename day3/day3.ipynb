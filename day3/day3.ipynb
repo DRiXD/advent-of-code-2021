{
 "cells": [
  {
   "cell_type": "code",
   "execution_count": 1,
   "id": "d61cf761-25d5-426f-99af-fae08c70fdae",
   "metadata": {},
   "outputs": [],
   "source": [
    "#txt-Datei einlesen\n",
    "def read_txt_to_list(file_path):\n",
    "    file = open(file_path, 'r')\n",
    "    Lines = file.readlines()\n",
    "\n",
    "    binaries = []\n",
    "    for line in Lines:\n",
    "        stripped_line = line.strip()\n",
    "        binaries.append(stripped_line)\n",
    "    return binaries"
   ]
  },
  {
   "cell_type": "code",
   "execution_count": 2,
   "id": "f99643f0-4df9-41c6-acf3-0f1b38a1eb4d",
   "metadata": {},
   "outputs": [
    {
     "name": "stdout",
     "output_type": "stream",
     "text": [
      "Final gamma is: 101001001011 (Decimal:2635)\n",
      "Final epsilon is: 010110110100 (Decimal:1460)\n",
      "Final power_consumption is: 3847100\n"
     ]
    }
   ],
   "source": [
    "# Part one\n",
    "binaries = read_txt_to_list(\"diagnosis.txt\")\n",
    "gamma_rate = ''\n",
    "epsilon_rate = ''\n",
    "\n",
    "for i in range(12):\n",
    "    bits = [binary[i] for binary in binaries] \n",
    "    \n",
    "    if bits.count('1') > bits.count('0'):\n",
    "        gamma_rate += '1'\n",
    "        epsilon_rate += '0'\n",
    "    else:\n",
    "        gamma_rate += '0'\n",
    "        epsilon_rate += '1'\n",
    "    \n",
    "print(f\"Final gamma is: {gamma_rate} (Decimal:{int(gamma_rate, 2)})\")\n",
    "print(f\"Final epsilon is: {epsilon_rate} (Decimal:{int(epsilon_rate, 2)})\")\n",
    "\n",
    "power_consumption = int(gamma_rate, 2) * int(epsilon_rate, 2)\n",
    "print(f\"Final power_consumption is: {power_consumption}\")"
   ]
  },
  {
   "cell_type": "code",
   "execution_count": 3,
   "id": "980e9047-7cbc-4f8f-8dfc-8ecea99277d8",
   "metadata": {},
   "outputs": [
    {
     "name": "stdout",
     "output_type": "stream",
     "text": [
      "Final oxygen generator rating is: 101010101111 (Decimal:2735)\n",
      "Final CO2 scrubber rating is: 010111011101 (Decimal:1501)\n",
      "Final life support rating is: 4105235\n"
     ]
    }
   ],
   "source": [
    "def find_most_common_value(pos, list_to_count):\n",
    "    bits = [element[pos] for element in list_to_count] \n",
    "    \n",
    "    if bits.count('1') >= bits.count('0'):\n",
    "        return '1'\n",
    "    else:\n",
    "        return '0'\n",
    "\n",
    "    \n",
    "def find_oxy_value(list_to_iterate):\n",
    "    for k in range(12):\n",
    "        most_common_value = find_most_common_value(k, list_to_iterate)\n",
    "        list_to_iterate = [x for x in list_to_iterate if (x[k] == most_common_value)]\n",
    "        \n",
    "        if len(list_to_iterate) == 1:\n",
    "            return list_to_iterate[0]\n",
    "\n",
    "        \n",
    "def find_co2_value(list_to_iterate):\n",
    "    for k in range(12):\n",
    "        most_common_value = find_most_common_value(k, list_to_iterate)\n",
    "        list_to_iterate = [x for x in list_to_iterate if not (x[k] == most_common_value)]\n",
    "        \n",
    "        if len(list_to_iterate) == 1:\n",
    "            return list_to_iterate[0]\n",
    "\n",
    "        \n",
    "oxy_list = read_txt_to_list(\"diagnosis.txt\")\n",
    "oxy_value = find_oxy_value(oxy_list)\n",
    "print(f\"Final oxygen generator rating is: {oxy_value} (Decimal:{int(oxy_value, 2)})\")\n",
    "\n",
    "co2_list = read_txt_to_list(\"diagnosis.txt\")\n",
    "co2_value = find_co2_value(co2_list)\n",
    "print(f\"Final CO2 scrubber rating is: {co2_value} (Decimal:{int(co2_value, 2)})\")\n",
    "\n",
    "ls_rating = int(oxy_value, 2) * int(co2_value, 2)\n",
    "print(f\"Final life support rating is: {ls_rating}\")"
   ]
  },
  {
   "cell_type": "code",
   "execution_count": null,
   "id": "b8989746-fc0d-4fa0-b2c1-2c17540a93b9",
   "metadata": {},
   "outputs": [],
   "source": []
  },
  {
   "cell_type": "code",
   "execution_count": null,
   "id": "1d586640-074d-4073-a440-cd683e6c1511",
   "metadata": {},
   "outputs": [],
   "source": []
  }
 ],
 "metadata": {
  "kernelspec": {
   "display_name": "Python 3",
   "language": "python",
   "name": "python3"
  },
  "language_info": {
   "codemirror_mode": {
    "name": "ipython",
    "version": 3
   },
   "file_extension": ".py",
   "mimetype": "text/x-python",
   "name": "python",
   "nbconvert_exporter": "python",
   "pygments_lexer": "ipython3",
   "version": "3.6.12"
  }
 },
 "nbformat": 4,
 "nbformat_minor": 5
}
