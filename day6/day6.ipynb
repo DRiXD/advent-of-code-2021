{
 "cells": [
  {
   "cell_type": "code",
   "execution_count": 1,
   "id": "6c4ebf6d-a2f5-4fc5-8d22-4c05dacce8ca",
   "metadata": {},
   "outputs": [],
   "source": [
    "#txt-Datei einlesen\n",
    "\n",
    "def read_fishes_txt(file_path):\n",
    "    file = open(file_path, 'r')\n",
    "    fishes = file.readline()\n",
    "    fishes = fishes.split(',')\n",
    "    fishes = [int(x) for x in fishes]\n",
    "    return fishes\n",
    "    "
   ]
  },
  {
   "cell_type": "code",
   "execution_count": 13,
   "id": "92d2bee4-3160-4148-901a-a7d26d1de0c1",
   "metadata": {
    "tags": []
   },
   "outputs": [
    {
     "name": "stdout",
     "output_type": "stream",
     "text": [
      "Initial State: [1, 1, 1, 1, 2, 1, 1, 4, 1, 4, 3, 1, 1, 1, 1, 1, 1, 1, 1, 4, 1, 3, 1, 1, 1, 5, 1, 3, 1, 4, 1, 2, 1, 1, 5, 1, 1, 1, 1, 1, 1, 1, 1, 1, 1, 3, 4, 1, 5, 1, 1, 1, 1, 1, 1, 1, 1, 1, 3, 1, 4, 1, 1, 1, 1, 3, 5, 1, 1, 2, 1, 1, 1, 1, 4, 4, 1, 1, 1, 4, 1, 1, 4, 2, 4, 4, 5, 1, 1, 1, 1, 2, 3, 1, 1, 4, 1, 5, 1, 1, 1, 3, 1, 1, 1, 1, 5, 5, 1, 2, 2, 2, 2, 1, 1, 2, 1, 1, 1, 1, 1, 3, 1, 1, 1, 2, 3, 1, 5, 1, 1, 1, 2, 2, 1, 1, 1, 1, 1, 3, 2, 1, 1, 1, 4, 3, 1, 1, 4, 1, 5, 4, 1, 4, 1, 1, 1, 1, 1, 1, 1, 1, 1, 1, 2, 2, 4, 5, 1, 1, 1, 1, 5, 4, 1, 3, 1, 1, 1, 1, 4, 3, 3, 3, 1, 2, 3, 1, 1, 1, 1, 1, 1, 1, 1, 2, 1, 1, 1, 5, 1, 3, 1, 4, 3, 1, 3, 1, 5, 1, 1, 1, 1, 3, 1, 5, 1, 2, 4, 1, 1, 4, 1, 4, 4, 2, 1, 2, 1, 3, 3, 1, 4, 4, 1, 1, 3, 4, 1, 1, 1, 2, 5, 2, 5, 1, 1, 1, 4, 1, 1, 1, 1, 1, 1, 3, 1, 5, 1, 2, 1, 1, 1, 1, 1, 4, 4, 1, 1, 1, 5, 1, 1, 5, 1, 2, 1, 5, 1, 1, 1, 1, 1, 1, 1, 1, 1, 1, 1, 1, 3, 2, 4, 1, 1, 2, 1, 1, 3, 2]\n",
      "Total number of fishes after 80 days: 386536\n"
     ]
    }
   ],
   "source": [
    "fishes = read_fishes_txt('fishes.txt')\n",
    "days = 80\n",
    "\n",
    "print(f\"Initial State: {fishes}\")\n",
    "\n",
    "for day in range(1,days+1):    \n",
    "    for i in range(len(fishes)):\n",
    "        if fishes[i] == 0:\n",
    "            fishes[i] = 6\n",
    "            fishes.append(8)\n",
    "        else:\n",
    "            fishes[i] = fishes[i] - 1\n",
    "    #print(f\"Day: {day}, Fishes: {fishes}\")\n",
    "            \n",
    "print(f\"Total number of fishes after {days} days: {len(fishes)}\")"
   ]
  },
  {
   "cell_type": "code",
   "execution_count": 16,
   "id": "4e362da0-865c-45ed-a94c-3daf22110d43",
   "metadata": {},
   "outputs": [
    {
     "name": "stdout",
     "output_type": "stream",
     "text": [
      "Initial State: [1, 1, 1, 1, 2, 1, 1, 4, 1, 4, 3, 1, 1, 1, 1, 1, 1, 1, 1, 4, 1, 3, 1, 1, 1, 5, 1, 3, 1, 4, 1, 2, 1, 1, 5, 1, 1, 1, 1, 1, 1, 1, 1, 1, 1, 3, 4, 1, 5, 1, 1, 1, 1, 1, 1, 1, 1, 1, 3, 1, 4, 1, 1, 1, 1, 3, 5, 1, 1, 2, 1, 1, 1, 1, 4, 4, 1, 1, 1, 4, 1, 1, 4, 2, 4, 4, 5, 1, 1, 1, 1, 2, 3, 1, 1, 4, 1, 5, 1, 1, 1, 3, 1, 1, 1, 1, 5, 5, 1, 2, 2, 2, 2, 1, 1, 2, 1, 1, 1, 1, 1, 3, 1, 1, 1, 2, 3, 1, 5, 1, 1, 1, 2, 2, 1, 1, 1, 1, 1, 3, 2, 1, 1, 1, 4, 3, 1, 1, 4, 1, 5, 4, 1, 4, 1, 1, 1, 1, 1, 1, 1, 1, 1, 1, 2, 2, 4, 5, 1, 1, 1, 1, 5, 4, 1, 3, 1, 1, 1, 1, 4, 3, 3, 3, 1, 2, 3, 1, 1, 1, 1, 1, 1, 1, 1, 2, 1, 1, 1, 5, 1, 3, 1, 4, 3, 1, 3, 1, 5, 1, 1, 1, 1, 3, 1, 5, 1, 2, 4, 1, 1, 4, 1, 4, 4, 2, 1, 2, 1, 3, 3, 1, 4, 4, 1, 1, 3, 4, 1, 1, 1, 2, 5, 2, 5, 1, 1, 1, 4, 1, 1, 1, 1, 1, 1, 3, 1, 5, 1, 2, 1, 1, 1, 1, 1, 4, 4, 1, 1, 1, 5, 1, 1, 5, 1, 2, 1, 5, 1, 1, 1, 1, 1, 1, 1, 1, 1, 1, 1, 1, 3, 2, 4, 1, 1, 2, 1, 1, 3, 2]\n",
      "Total number of fishes after 256 days: 1732821262171\n"
     ]
    }
   ],
   "source": [
    "fishes = read_fishes_txt('fishes.txt')\n",
    "days = 256\n",
    "\n",
    "print(f\"Initial State: {fishes}\")\n",
    "\n",
    "fishes_per_day = [0] * 9\n",
    "for fish in fishes:\n",
    "    fishes_per_day[fish] += 1\n",
    "\n",
    "for day in range(1, days+1):\n",
    "    \n",
    "    splitting_fishes = fishes_per_day[0]\n",
    "    \n",
    "    for x in range(len(fishes_per_day)-1):\n",
    "        fishes_per_day[x] = fishes_per_day[x+1]\n",
    "    \n",
    "    fishes_per_day[6] = fishes_per_day[6] + splitting_fishes\n",
    "    fishes_per_day[8] = splitting_fishes\n",
    "    \n",
    "    \n",
    "    #print(f\"Day: {day}, Fishes: {fishes_per_day}\")\n",
    "\n",
    "print(f\"Total number of fishes after {days} days: {sum(fishes_per_day)}\")"
   ]
  },
  {
   "cell_type": "code",
   "execution_count": null,
   "id": "4df40f82-31b7-4fd5-a261-a4d7bcf2ce16",
   "metadata": {},
   "outputs": [],
   "source": []
  }
 ],
 "metadata": {
  "kernelspec": {
   "display_name": "Python 3",
   "language": "python",
   "name": "python3"
  },
  "language_info": {
   "codemirror_mode": {
    "name": "ipython",
    "version": 3
   },
   "file_extension": ".py",
   "mimetype": "text/x-python",
   "name": "python",
   "nbconvert_exporter": "python",
   "pygments_lexer": "ipython3",
   "version": "3.6.12"
  }
 },
 "nbformat": 4,
 "nbformat_minor": 5
}
