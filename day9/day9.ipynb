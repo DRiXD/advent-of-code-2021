{
 "cells": [
  {
   "cell_type": "code",
   "execution_count": 1,
   "id": "c9479f7b-1145-46fd-8427-c106659ed4f4",
   "metadata": {},
   "outputs": [],
   "source": [
    "#txt-Datei einlesen\n",
    "\n",
    "import numpy as np\n",
    "\n",
    "def read_heightmap_txt(file_path):\n",
    "    file = open(file_path, 'r')\n",
    "    lines = file.readlines()\n",
    "    \n",
    "    #heightmap = np.empty(shape=(5,10), dtype=int)\n",
    "    heightmap = []\n",
    "    i = 0\n",
    "    for line in lines:\n",
    "        line = line.strip()\n",
    "        line = line.split()\n",
    "        line = [int(a) for a in str(line[0])]\n",
    "        #heightmap[i] = line\n",
    "        heightmap.append(line)\n",
    "        i += 1\n",
    "    return heightmap"
   ]
  },
  {
   "cell_type": "code",
   "execution_count": 10,
   "id": "4b4e7811-0b57-41d0-b2df-125b572ce251",
   "metadata": {},
   "outputs": [
    {
     "name": "stdout",
     "output_type": "stream",
     "text": [
      "500\n"
     ]
    }
   ],
   "source": [
    "# Aufgabe 1\n",
    "heightmap = read_heightmap_txt('heightmap.txt')\n",
    "\n",
    "def append_frame(heightmap, width): \n",
    "    for row in heightmap:\n",
    "        row.insert(0, 9)\n",
    "        row.insert(len(row)+1, 9)\n",
    "    nines = [9] * (width+2)\n",
    "    heightmap.insert(0, nines)\n",
    "    heightmap.insert(len(heightmap)+1, nines)\n",
    "    return heightmap\n",
    "\n",
    "\n",
    "def check_low_point(heightmap, j, i):\n",
    "    point = heightmap[i][j]\n",
    "    top = heightmap[i-1][j]\n",
    "    low = heightmap[i+1][j]\n",
    "    right = heightmap[i][j+1]\n",
    "    left = heightmap[i][j-1]\n",
    "    neighbors = [top, low, right, left]\n",
    "    \n",
    "    if all(x > point for x in neighbors):\n",
    "        return True\n",
    "    else: return False\n",
    "\n",
    "width = len(heightmap[0])\n",
    "heightmap = append_frame(heightmap, width)\n",
    "\n",
    "lowpoints = []\n",
    "height = len(heightmap)\n",
    "width = len(heightmap[0])\n",
    "for i in range(0,width):\n",
    "    for j in range(0,height):\n",
    "        if i==0 or i==width-1 or j == 0 or j == height-1 :\n",
    "            pass\n",
    "        else:\n",
    "            if check_low_point(heightmap, i, j):\n",
    "                lowpoints.append((i,j))\n",
    "\n",
    "\n",
    "risk_level = sum([1+heightmap[y[1]][y[0]] for y in lowpoints])\n",
    "print(risk_level)\n"
   ]
  }
 ],
 "metadata": {
  "kernelspec": {
   "display_name": "Python 3",
   "language": "python",
   "name": "python3"
  },
  "language_info": {
   "codemirror_mode": {
    "name": "ipython",
    "version": 3
   },
   "file_extension": ".py",
   "mimetype": "text/x-python",
   "name": "python",
   "nbconvert_exporter": "python",
   "pygments_lexer": "ipython3",
   "version": "3.6.12"
  }
 },
 "nbformat": 4,
 "nbformat_minor": 5
}
